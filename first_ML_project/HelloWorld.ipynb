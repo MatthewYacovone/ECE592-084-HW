{
 "cells": [
  {
   "cell_type": "code",
   "execution_count": 103,
   "id": "de057930-8a28-4515-908e-5334b8d2b623",
   "metadata": {
    "scrolled": true
   },
   "outputs": [],
   "source": [
    "import pandas as pd\n",
    "from sklearn.tree import DecisionTreeClassifier\n",
    "from sklearn import tree # this object has a method for exporting our decision tree in a graphical format\n",
    "\n",
    "music_data = pd.read_csv('music.csv')\n",
    "X = music_data.drop(columns=['genre'])\n",
    "y = music_data['genre']\n",
    "\n",
    "model = DecisionTreeClassifier()\n",
    "model.fit(X.values, y)\n",
    "\n",
    "tree.export_graphviz(model, out_file='music_recommender.dot',\n",
    "                    feature_names=['age', 'gender'], # so we can see the rules in our nodes\n",
    "                    class_names=sorted(y.unique()), # displaying the class for each node\n",
    "                    label='all', # each node has labels we can read\n",
    "                    rounded=True, # each node is rounded \n",
    "                    filled=True) # each node is filled with a color\n"
   ]
  },
  {
   "cell_type": "code",
   "execution_count": 100,
   "id": "909ecdd6-2a9e-4b51-b892-8d7b765c3c38",
   "metadata": {},
   "outputs": [
    {
     "data": {
      "text/plain": [
       "0.3333333333333333"
      ]
     },
     "execution_count": 100,
     "metadata": {},
     "output_type": "execute_result"
    }
   ],
   "source": [
    "import pandas as pd\n",
    "from sklearn.tree import DecisionTreeClassifier\n",
    "from sklearn.model_selection import train_test_split\n",
    "from sklearn.metrics import accuracy_score\n",
    "\n",
    "music_data = pd.read_csv('music.csv') # dataframe object\n",
    "X = music_data.drop(columns=['genre']) # input dataset\n",
    "y = music_data['genre'] # output dataset\n",
    "X_train, X_test, y_train, y_test = train_test_split(X, y, test_size=0.8) # returns a tuple\n",
    "\n",
    "model = DecisionTreeClassifier() # a new instance of DTC\n",
    "model.fit(X_train, y_train)\n",
    "predictions = model.predict(X_test) # its like a new input in this table\n",
    "\n",
    "score = accuracy_score(y_test, predictions) # between 0-1\n",
    "score"
   ]
  },
  {
   "cell_type": "code",
   "execution_count": null,
   "id": "703fb21d-39ce-4c42-8a2e-1ab833d630e3",
   "metadata": {},
   "outputs": [],
   "source": [
    "import pandas as pd\n",
    "from sklearn.tree import DecisionTreeClassifier\n",
    "import joblib # joblib obj. has methods for saving and loading modules\n",
    "\n",
    "music_data = pd.read_csv('music.csv') # dataframe object\n",
    "X = music_data.drop(columns=['genre']) # input dataset\n",
    "y = music_data['genre'] # output dataset\n",
    "\n",
    "model = DecisionTreeClassifier() # a new instance of DTC\n",
    "model.fit(X.values, y)\n",
    "\n",
    "joblib.dump(model, 'music-recommender2.joblib')\n",
    "\n",
    "predictions = model.predict([ [21, 1] ]) # its like a new input in this table"
   ]
  }
 ],
 "metadata": {
  "kernelspec": {
   "display_name": "Python 3 (ipykernel)",
   "language": "python",
   "name": "python3"
  },
  "language_info": {
   "codemirror_mode": {
    "name": "ipython",
    "version": 3
   },
   "file_extension": ".py",
   "mimetype": "text/x-python",
   "name": "python",
   "nbconvert_exporter": "python",
   "pygments_lexer": "ipython3",
   "version": "3.10.14"
  }
 },
 "nbformat": 4,
 "nbformat_minor": 5
}
